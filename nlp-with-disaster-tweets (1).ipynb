{
 "cells": [
  {
   "cell_type": "code",
   "execution_count": 1,
   "metadata": {
    "_cell_guid": "b1076dfc-b9ad-4769-8c92-a6c4dae69d19",
    "_uuid": "8f2839f25d086af736a60e9eeb907d3b93b6e0e5",
    "execution": {
     "iopub.execute_input": "2021-10-15T22:40:44.050585Z",
     "iopub.status.busy": "2021-10-15T22:40:44.049920Z",
     "iopub.status.idle": "2021-10-15T22:40:50.288650Z",
     "shell.execute_reply": "2021-10-15T22:40:50.287889Z"
    },
    "papermill": {
     "duration": 6.261828,
     "end_time": "2021-10-15T22:40:50.288860",
     "exception": false,
     "start_time": "2021-10-15T22:40:44.027032",
     "status": "completed"
    },
    "tags": []
   },
   "outputs": [
    {
     "name": "stdout",
     "output_type": "stream",
     "text": [
      "/kaggle/input/nlp-getting-started/sample_submission.csv\n",
      "/kaggle/input/nlp-getting-started/train.csv\n",
      "/kaggle/input/nlp-getting-started/test.csv\n"
     ]
    }
   ],
   "source": [
    "# This Python 3 environment comes with many helpful analytics libraries installed\n",
    "# It is defined by the kaggle/python Docker image: https://github.com/kaggle/docker-python\n",
    "# For example, here's several helpful packages to load\n",
    "\n",
    "import numpy as np # linear algebra\n",
    "import pandas as pd # data processing, CSV file I/O (e.g. pd.read_csv)\n",
    "import tensorflow as tf\n",
    "from tensorflow.keras.preprocessing.text import Tokenizer\n",
    "from tensorflow.keras.preprocessing.sequence import pad_sequences\n",
    "\n",
    "# Input data files are available in the read-only \"../input/\" directory\n",
    "# For example, running this (by clicking run or pressing Shift+Enter) will list all files under the input directory\n",
    "\n",
    "import os\n",
    "for dirname, _, filenames in os.walk('/kaggle/input'):\n",
    "    for filename in filenames:\n",
    "        print(os.path.join(dirname, filename))\n",
    "\n",
    "# You can write up to 20GB to the current directory (/kaggle/working/) that gets preserved as output when you create a version using \"Save & Run All\" \n",
    "# You can also write temporary files to /kaggle/temp/, but they won't be saved outside of the current session"
   ]
  },
  {
   "cell_type": "markdown",
   "metadata": {
    "papermill": {
     "duration": 0.014207,
     "end_time": "2021-10-15T22:40:50.318424",
     "exception": false,
     "start_time": "2021-10-15T22:40:50.304217",
     "status": "completed"
    },
    "tags": []
   },
   "source": [
    "# 1. Loading the data as Dataframe"
   ]
  },
  {
   "cell_type": "code",
   "execution_count": 2,
   "metadata": {
    "execution": {
     "iopub.execute_input": "2021-10-15T22:40:50.350820Z",
     "iopub.status.busy": "2021-10-15T22:40:50.350087Z",
     "iopub.status.idle": "2021-10-15T22:40:50.465442Z",
     "shell.execute_reply": "2021-10-15T22:40:50.464405Z"
    },
    "papermill": {
     "duration": 0.13262,
     "end_time": "2021-10-15T22:40:50.465617",
     "exception": false,
     "start_time": "2021-10-15T22:40:50.332997",
     "status": "completed"
    },
    "tags": []
   },
   "outputs": [],
   "source": [
    "train_set = pd.read_csv(\"/kaggle/input/nlp-getting-started/train.csv\")\n",
    "test_set = pd.read_csv(\"/kaggle/input/nlp-getting-started/test.csv\")\n",
    "sample = pd.read_csv(\"/kaggle/input/nlp-getting-started/sample_submission.csv\")"
   ]
  },
  {
   "cell_type": "markdown",
   "metadata": {
    "papermill": {
     "duration": 0.014525,
     "end_time": "2021-10-15T22:40:50.495062",
     "exception": false,
     "start_time": "2021-10-15T22:40:50.480537",
     "status": "completed"
    },
    "tags": []
   },
   "source": [
    "# Have a look, what it look like!"
   ]
  },
  {
   "cell_type": "code",
   "execution_count": 3,
   "metadata": {
    "execution": {
     "iopub.execute_input": "2021-10-15T22:40:50.539503Z",
     "iopub.status.busy": "2021-10-15T22:40:50.538571Z",
     "iopub.status.idle": "2021-10-15T22:40:50.559840Z",
     "shell.execute_reply": "2021-10-15T22:40:50.560330Z"
    },
    "papermill": {
     "duration": 0.050743,
     "end_time": "2021-10-15T22:40:50.560522",
     "exception": false,
     "start_time": "2021-10-15T22:40:50.509779",
     "status": "completed"
    },
    "tags": []
   },
   "outputs": [
    {
     "data": {
      "text/html": [
       "<div>\n",
       "<style scoped>\n",
       "    .dataframe tbody tr th:only-of-type {\n",
       "        vertical-align: middle;\n",
       "    }\n",
       "\n",
       "    .dataframe tbody tr th {\n",
       "        vertical-align: top;\n",
       "    }\n",
       "\n",
       "    .dataframe thead th {\n",
       "        text-align: right;\n",
       "    }\n",
       "</style>\n",
       "<table border=\"1\" class=\"dataframe\">\n",
       "  <thead>\n",
       "    <tr style=\"text-align: right;\">\n",
       "      <th></th>\n",
       "      <th>id</th>\n",
       "      <th>keyword</th>\n",
       "      <th>location</th>\n",
       "      <th>text</th>\n",
       "      <th>target</th>\n",
       "    </tr>\n",
       "  </thead>\n",
       "  <tbody>\n",
       "    <tr>\n",
       "      <th>0</th>\n",
       "      <td>1</td>\n",
       "      <td>NaN</td>\n",
       "      <td>NaN</td>\n",
       "      <td>Our Deeds are the Reason of this #earthquake M...</td>\n",
       "      <td>1</td>\n",
       "    </tr>\n",
       "    <tr>\n",
       "      <th>1</th>\n",
       "      <td>4</td>\n",
       "      <td>NaN</td>\n",
       "      <td>NaN</td>\n",
       "      <td>Forest fire near La Ronge Sask. Canada</td>\n",
       "      <td>1</td>\n",
       "    </tr>\n",
       "    <tr>\n",
       "      <th>2</th>\n",
       "      <td>5</td>\n",
       "      <td>NaN</td>\n",
       "      <td>NaN</td>\n",
       "      <td>All residents asked to 'shelter in place' are ...</td>\n",
       "      <td>1</td>\n",
       "    </tr>\n",
       "    <tr>\n",
       "      <th>3</th>\n",
       "      <td>6</td>\n",
       "      <td>NaN</td>\n",
       "      <td>NaN</td>\n",
       "      <td>13,000 people receive #wildfires evacuation or...</td>\n",
       "      <td>1</td>\n",
       "    </tr>\n",
       "    <tr>\n",
       "      <th>4</th>\n",
       "      <td>7</td>\n",
       "      <td>NaN</td>\n",
       "      <td>NaN</td>\n",
       "      <td>Just got sent this photo from Ruby #Alaska as ...</td>\n",
       "      <td>1</td>\n",
       "    </tr>\n",
       "  </tbody>\n",
       "</table>\n",
       "</div>"
      ],
      "text/plain": [
       "   id keyword location                                               text  \\\n",
       "0   1     NaN      NaN  Our Deeds are the Reason of this #earthquake M...   \n",
       "1   4     NaN      NaN             Forest fire near La Ronge Sask. Canada   \n",
       "2   5     NaN      NaN  All residents asked to 'shelter in place' are ...   \n",
       "3   6     NaN      NaN  13,000 people receive #wildfires evacuation or...   \n",
       "4   7     NaN      NaN  Just got sent this photo from Ruby #Alaska as ...   \n",
       "\n",
       "   target  \n",
       "0       1  \n",
       "1       1  \n",
       "2       1  \n",
       "3       1  \n",
       "4       1  "
      ]
     },
     "execution_count": 3,
     "metadata": {},
     "output_type": "execute_result"
    }
   ],
   "source": [
    "train_set.head()"
   ]
  },
  {
   "cell_type": "code",
   "execution_count": 4,
   "metadata": {
    "execution": {
     "iopub.execute_input": "2021-10-15T22:40:50.595747Z",
     "iopub.status.busy": "2021-10-15T22:40:50.595038Z",
     "iopub.status.idle": "2021-10-15T22:40:50.604914Z",
     "shell.execute_reply": "2021-10-15T22:40:50.605410Z"
    },
    "papermill": {
     "duration": 0.029043,
     "end_time": "2021-10-15T22:40:50.605598",
     "exception": false,
     "start_time": "2021-10-15T22:40:50.576555",
     "status": "completed"
    },
    "tags": []
   },
   "outputs": [
    {
     "data": {
      "text/html": [
       "<div>\n",
       "<style scoped>\n",
       "    .dataframe tbody tr th:only-of-type {\n",
       "        vertical-align: middle;\n",
       "    }\n",
       "\n",
       "    .dataframe tbody tr th {\n",
       "        vertical-align: top;\n",
       "    }\n",
       "\n",
       "    .dataframe thead th {\n",
       "        text-align: right;\n",
       "    }\n",
       "</style>\n",
       "<table border=\"1\" class=\"dataframe\">\n",
       "  <thead>\n",
       "    <tr style=\"text-align: right;\">\n",
       "      <th></th>\n",
       "      <th>id</th>\n",
       "      <th>keyword</th>\n",
       "      <th>location</th>\n",
       "      <th>text</th>\n",
       "    </tr>\n",
       "  </thead>\n",
       "  <tbody>\n",
       "    <tr>\n",
       "      <th>0</th>\n",
       "      <td>0</td>\n",
       "      <td>NaN</td>\n",
       "      <td>NaN</td>\n",
       "      <td>Just happened a terrible car crash</td>\n",
       "    </tr>\n",
       "    <tr>\n",
       "      <th>1</th>\n",
       "      <td>2</td>\n",
       "      <td>NaN</td>\n",
       "      <td>NaN</td>\n",
       "      <td>Heard about #earthquake is different cities, s...</td>\n",
       "    </tr>\n",
       "    <tr>\n",
       "      <th>2</th>\n",
       "      <td>3</td>\n",
       "      <td>NaN</td>\n",
       "      <td>NaN</td>\n",
       "      <td>there is a forest fire at spot pond, geese are...</td>\n",
       "    </tr>\n",
       "    <tr>\n",
       "      <th>3</th>\n",
       "      <td>9</td>\n",
       "      <td>NaN</td>\n",
       "      <td>NaN</td>\n",
       "      <td>Apocalypse lighting. #Spokane #wildfires</td>\n",
       "    </tr>\n",
       "    <tr>\n",
       "      <th>4</th>\n",
       "      <td>11</td>\n",
       "      <td>NaN</td>\n",
       "      <td>NaN</td>\n",
       "      <td>Typhoon Soudelor kills 28 in China and Taiwan</td>\n",
       "    </tr>\n",
       "  </tbody>\n",
       "</table>\n",
       "</div>"
      ],
      "text/plain": [
       "   id keyword location                                               text\n",
       "0   0     NaN      NaN                 Just happened a terrible car crash\n",
       "1   2     NaN      NaN  Heard about #earthquake is different cities, s...\n",
       "2   3     NaN      NaN  there is a forest fire at spot pond, geese are...\n",
       "3   9     NaN      NaN           Apocalypse lighting. #Spokane #wildfires\n",
       "4  11     NaN      NaN      Typhoon Soudelor kills 28 in China and Taiwan"
      ]
     },
     "execution_count": 4,
     "metadata": {},
     "output_type": "execute_result"
    }
   ],
   "source": [
    "test_set.head()"
   ]
  },
  {
   "cell_type": "code",
   "execution_count": 5,
   "metadata": {
    "execution": {
     "iopub.execute_input": "2021-10-15T22:40:50.640932Z",
     "iopub.status.busy": "2021-10-15T22:40:50.640297Z",
     "iopub.status.idle": "2021-10-15T22:40:50.648035Z",
     "shell.execute_reply": "2021-10-15T22:40:50.648564Z"
    },
    "papermill": {
     "duration": 0.027041,
     "end_time": "2021-10-15T22:40:50.648732",
     "exception": false,
     "start_time": "2021-10-15T22:40:50.621691",
     "status": "completed"
    },
    "tags": []
   },
   "outputs": [
    {
     "data": {
      "text/html": [
       "<div>\n",
       "<style scoped>\n",
       "    .dataframe tbody tr th:only-of-type {\n",
       "        vertical-align: middle;\n",
       "    }\n",
       "\n",
       "    .dataframe tbody tr th {\n",
       "        vertical-align: top;\n",
       "    }\n",
       "\n",
       "    .dataframe thead th {\n",
       "        text-align: right;\n",
       "    }\n",
       "</style>\n",
       "<table border=\"1\" class=\"dataframe\">\n",
       "  <thead>\n",
       "    <tr style=\"text-align: right;\">\n",
       "      <th></th>\n",
       "      <th>id</th>\n",
       "      <th>target</th>\n",
       "    </tr>\n",
       "  </thead>\n",
       "  <tbody>\n",
       "    <tr>\n",
       "      <th>0</th>\n",
       "      <td>0</td>\n",
       "      <td>0</td>\n",
       "    </tr>\n",
       "    <tr>\n",
       "      <th>1</th>\n",
       "      <td>2</td>\n",
       "      <td>0</td>\n",
       "    </tr>\n",
       "    <tr>\n",
       "      <th>2</th>\n",
       "      <td>3</td>\n",
       "      <td>0</td>\n",
       "    </tr>\n",
       "    <tr>\n",
       "      <th>3</th>\n",
       "      <td>9</td>\n",
       "      <td>0</td>\n",
       "    </tr>\n",
       "    <tr>\n",
       "      <th>4</th>\n",
       "      <td>11</td>\n",
       "      <td>0</td>\n",
       "    </tr>\n",
       "  </tbody>\n",
       "</table>\n",
       "</div>"
      ],
      "text/plain": [
       "   id  target\n",
       "0   0       0\n",
       "1   2       0\n",
       "2   3       0\n",
       "3   9       0\n",
       "4  11       0"
      ]
     },
     "execution_count": 5,
     "metadata": {},
     "output_type": "execute_result"
    }
   ],
   "source": [
    "sample.head()"
   ]
  },
  {
   "cell_type": "code",
   "execution_count": 6,
   "metadata": {
    "execution": {
     "iopub.execute_input": "2021-10-15T22:40:50.684910Z",
     "iopub.status.busy": "2021-10-15T22:40:50.684267Z",
     "iopub.status.idle": "2021-10-15T22:40:50.692009Z",
     "shell.execute_reply": "2021-10-15T22:40:50.691061Z"
    },
    "papermill": {
     "duration": 0.026902,
     "end_time": "2021-10-15T22:40:50.692220",
     "exception": false,
     "start_time": "2021-10-15T22:40:50.665318",
     "status": "completed"
    },
    "tags": []
   },
   "outputs": [
    {
     "name": "stdout",
     "output_type": "stream",
     "text": [
      "(7613,)\n"
     ]
    }
   ],
   "source": [
    "x = train_set[\"text\"]\n",
    "y = train_set[\"target\"]\n",
    "print(np.shape(y))\n",
    "\n",
    "\n",
    "x_test = test_set[\"text\"]"
   ]
  },
  {
   "cell_type": "code",
   "execution_count": 7,
   "metadata": {
    "execution": {
     "iopub.execute_input": "2021-10-15T22:40:50.734801Z",
     "iopub.status.busy": "2021-10-15T22:40:50.733944Z",
     "iopub.status.idle": "2021-10-15T22:40:50.738215Z",
     "shell.execute_reply": "2021-10-15T22:40:50.737706Z"
    },
    "papermill": {
     "duration": 0.028418,
     "end_time": "2021-10-15T22:40:50.738377",
     "exception": false,
     "start_time": "2021-10-15T22:40:50.709959",
     "status": "completed"
    },
    "tags": []
   },
   "outputs": [
    {
     "data": {
      "text/plain": [
       "0    Our Deeds are the Reason of this #earthquake M...\n",
       "1               Forest fire near La Ronge Sask. Canada\n",
       "2    All residents asked to 'shelter in place' are ...\n",
       "3    13,000 people receive #wildfires evacuation or...\n",
       "4    Just got sent this photo from Ruby #Alaska as ...\n",
       "Name: text, dtype: object"
      ]
     },
     "execution_count": 7,
     "metadata": {},
     "output_type": "execute_result"
    }
   ],
   "source": [
    "x.head()"
   ]
  },
  {
   "cell_type": "code",
   "execution_count": 8,
   "metadata": {
    "execution": {
     "iopub.execute_input": "2021-10-15T22:40:50.776998Z",
     "iopub.status.busy": "2021-10-15T22:40:50.776382Z",
     "iopub.status.idle": "2021-10-15T22:40:50.781950Z",
     "shell.execute_reply": "2021-10-15T22:40:50.782482Z"
    },
    "papermill": {
     "duration": 0.026813,
     "end_time": "2021-10-15T22:40:50.782655",
     "exception": false,
     "start_time": "2021-10-15T22:40:50.755842",
     "status": "completed"
    },
    "tags": []
   },
   "outputs": [
    {
     "data": {
      "text/plain": [
       "0    1\n",
       "1    1\n",
       "2    1\n",
       "3    1\n",
       "4    1\n",
       "Name: target, dtype: int64"
      ]
     },
     "execution_count": 8,
     "metadata": {},
     "output_type": "execute_result"
    }
   ],
   "source": [
    "y.head()"
   ]
  },
  {
   "cell_type": "code",
   "execution_count": 9,
   "metadata": {
    "execution": {
     "iopub.execute_input": "2021-10-15T22:40:50.822463Z",
     "iopub.status.busy": "2021-10-15T22:40:50.821802Z",
     "iopub.status.idle": "2021-10-15T22:40:51.281672Z",
     "shell.execute_reply": "2021-10-15T22:40:51.280992Z"
    },
    "papermill": {
     "duration": 0.481232,
     "end_time": "2021-10-15T22:40:51.281823",
     "exception": false,
     "start_time": "2021-10-15T22:40:50.800591",
     "status": "completed"
    },
    "tags": []
   },
   "outputs": [],
   "source": [
    "tokenizer = Tokenizer(num_words = 10000)\n",
    "tokenizer.fit_on_texts(x)\n",
    "\n",
    "x_index = tokenizer.word_index\n",
    "sequence = tokenizer.texts_to_sequences(x)\n",
    "x_padded = pad_sequences(sequence)"
   ]
  },
  {
   "cell_type": "code",
   "execution_count": 10,
   "metadata": {
    "execution": {
     "iopub.execute_input": "2021-10-15T22:40:51.337239Z",
     "iopub.status.busy": "2021-10-15T22:40:51.326923Z",
     "iopub.status.idle": "2021-10-15T22:40:51.427143Z",
     "shell.execute_reply": "2021-10-15T22:40:51.426568Z"
    },
    "papermill": {
     "duration": 0.12678,
     "end_time": "2021-10-15T22:40:51.427299",
     "exception": false,
     "start_time": "2021-10-15T22:40:51.300519",
     "status": "completed"
    },
    "tags": []
   },
   "outputs": [],
   "source": [
    "test_sequence = tokenizer.texts_to_sequences(x_test)\n",
    "x_test_padded = pad_sequences(test_sequence)"
   ]
  },
  {
   "cell_type": "code",
   "execution_count": 11,
   "metadata": {
    "execution": {
     "iopub.execute_input": "2021-10-15T22:40:51.470090Z",
     "iopub.status.busy": "2021-10-15T22:40:51.469098Z",
     "iopub.status.idle": "2021-10-15T22:40:51.473146Z",
     "shell.execute_reply": "2021-10-15T22:40:51.472529Z"
    },
    "papermill": {
     "duration": 0.027234,
     "end_time": "2021-10-15T22:40:51.473312",
     "exception": false,
     "start_time": "2021-10-15T22:40:51.446078",
     "status": "completed"
    },
    "tags": []
   },
   "outputs": [
    {
     "name": "stdout",
     "output_type": "stream",
     "text": [
      "<class 'dict'>\n",
      "<class 'list'>\n",
      "<class 'numpy.ndarray'>\n"
     ]
    }
   ],
   "source": [
    "print(type(x_index))\n",
    "print(type(sequence))\n",
    "print(type(x_padded))"
   ]
  },
  {
   "cell_type": "code",
   "execution_count": 12,
   "metadata": {
    "execution": {
     "iopub.execute_input": "2021-10-15T22:40:51.516062Z",
     "iopub.status.busy": "2021-10-15T22:40:51.515395Z",
     "iopub.status.idle": "2021-10-15T22:40:51.518015Z",
     "shell.execute_reply": "2021-10-15T22:40:51.518739Z"
    },
    "papermill": {
     "duration": 0.026969,
     "end_time": "2021-10-15T22:40:51.518968",
     "exception": false,
     "start_time": "2021-10-15T22:40:51.491999",
     "status": "completed"
    },
    "tags": []
   },
   "outputs": [
    {
     "name": "stdout",
     "output_type": "stream",
     "text": [
      "(7613, 32)\n",
      "22700\n"
     ]
    }
   ],
   "source": [
    "print(np.shape(x_padded))\n",
    "print(len(x_index))"
   ]
  },
  {
   "cell_type": "code",
   "execution_count": 13,
   "metadata": {
    "execution": {
     "iopub.execute_input": "2021-10-15T22:40:51.564305Z",
     "iopub.status.busy": "2021-10-15T22:40:51.563466Z",
     "iopub.status.idle": "2021-10-15T22:40:51.676993Z",
     "shell.execute_reply": "2021-10-15T22:40:51.676406Z"
    },
    "papermill": {
     "duration": 0.137987,
     "end_time": "2021-10-15T22:40:51.677150",
     "exception": false,
     "start_time": "2021-10-15T22:40:51.539163",
     "status": "completed"
    },
    "tags": []
   },
   "outputs": [],
   "source": [
    "model = tf.keras.Sequential([\n",
    "    tf.keras.layers.Embedding(10000, 64, input_length = 10),\n",
    "    tf.keras.layers.GlobalAveragePooling1D(),\n",
    "    tf.keras.layers.Dense(24, activation = 'relu'),\n",
    "    tf.keras.layers.Dense(1, activation = 'sigmoid')\n",
    "])"
   ]
  },
  {
   "cell_type": "code",
   "execution_count": 14,
   "metadata": {
    "execution": {
     "iopub.execute_input": "2021-10-15T22:40:51.729717Z",
     "iopub.status.busy": "2021-10-15T22:40:51.728738Z",
     "iopub.status.idle": "2021-10-15T22:41:04.071268Z",
     "shell.execute_reply": "2021-10-15T22:41:04.070731Z"
    },
    "papermill": {
     "duration": 12.374547,
     "end_time": "2021-10-15T22:41:04.071461",
     "exception": false,
     "start_time": "2021-10-15T22:40:51.696914",
     "status": "completed"
    },
    "tags": []
   },
   "outputs": [
    {
     "name": "stdout",
     "output_type": "stream",
     "text": [
      "Epoch 1/10\n",
      "160/160 [==============================] - 2s 10ms/step - loss: 0.6706 - accuracy: 0.5863 - val_loss: 0.5863 - val_accuracy: 0.7111\n",
      "Epoch 2/10\n",
      "160/160 [==============================] - 1s 7ms/step - loss: 0.4957 - accuracy: 0.7981 - val_loss: 0.4952 - val_accuracy: 0.7768\n",
      "Epoch 3/10\n",
      "160/160 [==============================] - 1s 7ms/step - loss: 0.3553 - accuracy: 0.8620 - val_loss: 0.4729 - val_accuracy: 0.7883\n",
      "Epoch 4/10\n",
      "160/160 [==============================] - 1s 7ms/step - loss: 0.2610 - accuracy: 0.9030 - val_loss: 0.5029 - val_accuracy: 0.7569\n",
      "Epoch 5/10\n",
      "160/160 [==============================] - 1s 7ms/step - loss: 0.2073 - accuracy: 0.9285 - val_loss: 0.5200 - val_accuracy: 0.7732\n",
      "Epoch 6/10\n",
      "160/160 [==============================] - 1s 7ms/step - loss: 0.1567 - accuracy: 0.9431 - val_loss: 0.5616 - val_accuracy: 0.7553\n",
      "Epoch 7/10\n",
      "160/160 [==============================] - 1s 7ms/step - loss: 0.1263 - accuracy: 0.9577 - val_loss: 0.6332 - val_accuracy: 0.7593\n",
      "Epoch 8/10\n",
      "160/160 [==============================] - 1s 7ms/step - loss: 0.1080 - accuracy: 0.9613 - val_loss: 0.6739 - val_accuracy: 0.7366\n",
      "Epoch 9/10\n",
      "160/160 [==============================] - 1s 7ms/step - loss: 0.0918 - accuracy: 0.9662 - val_loss: 0.7178 - val_accuracy: 0.7310\n",
      "Epoch 10/10\n",
      "160/160 [==============================] - 1s 7ms/step - loss: 0.0746 - accuracy: 0.9779 - val_loss: 0.7623 - val_accuracy: 0.7382\n"
     ]
    }
   ],
   "source": [
    "model.compile(loss = 'binary_crossentropy', optimizer = 'adam', metrics = ['accuracy'])\n",
    "history = model.fit(x_padded, y, validation_split=0.33, epochs=10)"
   ]
  },
  {
   "cell_type": "code",
   "execution_count": 15,
   "metadata": {
    "execution": {
     "iopub.execute_input": "2021-10-15T22:41:04.238026Z",
     "iopub.status.busy": "2021-10-15T22:41:04.237187Z",
     "iopub.status.idle": "2021-10-15T22:41:04.241660Z",
     "shell.execute_reply": "2021-10-15T22:41:04.240994Z"
    },
    "papermill": {
     "duration": 0.089761,
     "end_time": "2021-10-15T22:41:04.241811",
     "exception": false,
     "start_time": "2021-10-15T22:41:04.152050",
     "status": "completed"
    },
    "tags": []
   },
   "outputs": [
    {
     "name": "stdout",
     "output_type": "stream",
     "text": [
      "dict_keys(['loss', 'accuracy', 'val_loss', 'val_accuracy'])\n"
     ]
    }
   ],
   "source": [
    "import matplotlib.pyplot as plt\n",
    "\n",
    "print(history.history.keys())"
   ]
  },
  {
   "cell_type": "code",
   "execution_count": 16,
   "metadata": {
    "execution": {
     "iopub.execute_input": "2021-10-15T22:41:04.429846Z",
     "iopub.status.busy": "2021-10-15T22:41:04.425318Z",
     "iopub.status.idle": "2021-10-15T22:41:04.575410Z",
     "shell.execute_reply": "2021-10-15T22:41:04.574264Z"
    },
    "papermill": {
     "duration": 0.251689,
     "end_time": "2021-10-15T22:41:04.575573",
     "exception": false,
     "start_time": "2021-10-15T22:41:04.323884",
     "status": "completed"
    },
    "tags": []
   },
   "outputs": [
    {
     "data": {
      "image/png": "[encoded data removed]",
      "text/plain": [
       "<Figure size 432x288 with 1 Axes>"
      ]
     },
     "metadata": {
      "needs_background": "light"
     },
     "output_type": "display_data"
    }
   ],
   "source": [
    "plt.plot(history.history['accuracy'])\n",
    "plt.plot(history.history['val_accuracy'])\n",
    "\n",
    "plt.show()"
   ]
  },
  {
   "cell_type": "code",
   "execution_count": 17,
   "metadata": {
    "execution": {
     "iopub.execute_input": "2021-10-15T22:41:04.751235Z",
     "iopub.status.busy": "2021-10-15T22:41:04.750108Z",
     "iopub.status.idle": "2021-10-15T22:41:04.930431Z",
     "shell.execute_reply": "2021-10-15T22:41:04.931528Z"
    },
    "papermill": {
     "duration": 0.273003,
     "end_time": "2021-10-15T22:41:04.931726",
     "exception": false,
     "start_time": "2021-10-15T22:41:04.658723",
     "status": "completed"
    },
    "tags": []
   },
   "outputs": [
    {
     "name": "stdout",
     "output_type": "stream",
     "text": [
      "[0.2808717  0.99228907 0.99827164 ... 0.9948033  0.97451985 0.9859411 ]\n",
      "(3263,)\n"
     ]
    }
   ],
   "source": [
    "predictions = model.predict(x_test_padded)\n",
    "predictions = predictions.flatten()\n",
    "print(predictions)\n",
    "print(np.shape(predictions))"
   ]
  },
  {
   "cell_type": "code",
   "execution_count": 18,
   "metadata": {
    "execution": {
     "iopub.execute_input": "2021-10-15T22:41:05.100679Z",
     "iopub.status.busy": "2021-10-15T22:41:05.100026Z",
     "iopub.status.idle": "2021-10-15T22:41:05.103882Z",
     "shell.execute_reply": "2021-10-15T22:41:05.103231Z"
    },
    "papermill": {
     "duration": 0.090178,
     "end_time": "2021-10-15T22:41:05.104027",
     "exception": false,
     "start_time": "2021-10-15T22:41:05.013849",
     "status": "completed"
    },
    "tags": []
   },
   "outputs": [],
   "source": [
    "predictions = (predictions>=.5)"
   ]
  },
  {
   "cell_type": "code",
   "execution_count": 19,
   "metadata": {
    "execution": {
     "iopub.execute_input": "2021-10-15T22:41:05.275633Z",
     "iopub.status.busy": "2021-10-15T22:41:05.274828Z",
     "iopub.status.idle": "2021-10-15T22:41:05.277840Z",
     "shell.execute_reply": "2021-10-15T22:41:05.278326Z"
    },
    "papermill": {
     "duration": 0.091883,
     "end_time": "2021-10-15T22:41:05.278546",
     "exception": false,
     "start_time": "2021-10-15T22:41:05.186663",
     "status": "completed"
    },
    "tags": []
   },
   "outputs": [
    {
     "name": "stdout",
     "output_type": "stream",
     "text": [
      "[0 1 1 ... 1 1 1]\n"
     ]
    }
   ],
   "source": [
    "predictions = predictions.astype(int)\n",
    "print(predictions)"
   ]
  },
  {
   "cell_type": "code",
   "execution_count": 20,
   "metadata": {
    "execution": {
     "iopub.execute_input": "2021-10-15T22:41:05.451650Z",
     "iopub.status.busy": "2021-10-15T22:41:05.450848Z",
     "iopub.status.idle": "2021-10-15T22:41:05.454517Z",
     "shell.execute_reply": "2021-10-15T22:41:05.453972Z"
    },
    "papermill": {
     "duration": 0.092473,
     "end_time": "2021-10-15T22:41:05.454672",
     "exception": false,
     "start_time": "2021-10-15T22:41:05.362199",
     "status": "completed"
    },
    "tags": []
   },
   "outputs": [
    {
     "name": "stdout",
     "output_type": "stream",
     "text": [
      "<class 'numpy.ndarray'>\n"
     ]
    }
   ],
   "source": [
    "print(type(predictions))"
   ]
  },
  {
   "cell_type": "code",
   "execution_count": 21,
   "metadata": {
    "execution": {
     "iopub.execute_input": "2021-10-15T22:41:05.628573Z",
     "iopub.status.busy": "2021-10-15T22:41:05.627885Z",
     "iopub.status.idle": "2021-10-15T22:41:05.641630Z",
     "shell.execute_reply": "2021-10-15T22:41:05.640923Z"
    },
    "papermill": {
     "duration": 0.102587,
     "end_time": "2021-10-15T22:41:05.641823",
     "exception": false,
     "start_time": "2021-10-15T22:41:05.539236",
     "status": "completed"
    },
    "tags": []
   },
   "outputs": [
    {
     "name": "stdout",
     "output_type": "stream",
     "text": [
      "Your submission was successfully saved!\n"
     ]
    }
   ],
   "source": [
    "output = pd.DataFrame({'id': test_set.id, 'target': predictions})\n",
    "output.to_csv('my_submission.csv', index=False)\n",
    "print(\"Your submission was successfully saved!\")"
   ]
  },
  {
   "cell_type": "code",
   "execution_count": null,
   "metadata": {
    "papermill": {
     "duration": 0.083254,
     "end_time": "2021-10-15T22:41:05.809766",
     "exception": false,
     "start_time": "2021-10-15T22:41:05.726512",
     "status": "completed"
    },
    "tags": []
   },
   "outputs": [],
   "source": []
  }
 ],
 "metadata": {
  "kernelspec": {
   "display_name": "Python 3",
   "language": "python",
   "name": "python3"
  },
  "language_info": {
   "codemirror_mode": {
    "name": "ipython",
    "version": 3
   },
   "file_extension": ".py",
   "mimetype": "text/x-python",
   "name": "python",
   "nbconvert_exporter": "python",
   "pygments_lexer": "ipython3",
   "version": "3.7.9"
  },
  "papermill": {
   "default_parameters": {},
   "duration": 29.085536,
   "end_time": "2021-10-15T22:41:07.006986",
   "environment_variables": {},
   "exception": null,
   "input_path": "__notebook__.ipynb",
   "output_path": "__notebook__.ipynb",
   "parameters": {},
   "start_time": "2021-10-15T22:40:37.921450",
   "version": "2.2.2"
  }
 },
 "nbformat": 4,
 "nbformat_minor": 4
}
